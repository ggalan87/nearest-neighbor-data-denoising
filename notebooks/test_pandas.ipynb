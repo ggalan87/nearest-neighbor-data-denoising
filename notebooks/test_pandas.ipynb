{
 "cells": [
  {
   "cell_type": "code",
   "execution_count": 1,
   "id": "af4a92fe",
   "metadata": {},
   "outputs": [
    {
     "name": "stdout",
     "output_type": "stream",
     "text": [
      "[22000 25000 23000 24000 26000 27000]\n"
     ]
    }
   ],
   "source": [
    "import pandas as pd\n",
    "technologies= {\n",
    "    'Courses':[\"Spark\",\"PySpark\",\"Spark\",\"Java\",\"PySpark\",\"PHP\"],\n",
    "    'Fee' :[22000,25000,23000,24000,26000,27000],\n",
    "    'Duration':['30days','50days','30days','60days','35days','30days']\n",
    "          }\n",
    "df = pd.DataFrame(technologies)\n",
    "print(df['Fee'].unique())\n"
   ]
  },
  {
   "cell_type": "code",
   "execution_count": 202,
   "id": "63b7f289",
   "metadata": {},
   "outputs": [],
   "source": [
    "def generate_random_keep(n_samples: int, keep_probability: float):\n",
    "    # Adapted from: https://stackoverflow.com/a/19597672\n",
    "    n_ones = int(keep_probability * n_samples)\n",
    "    arr = np.zeros(n_samples)\n",
    "    arr[:n_ones] = 1\n",
    "    np.random.shuffle(arr)\n",
    "    return arr"
   ]
  },
  {
   "cell_type": "code",
   "execution_count": 216,
   "id": "f28b8df5",
   "metadata": {},
   "outputs": [
    {
     "data": {
      "text/plain": [
       "array([-1, -1, -1, -1,  1,  1,  1,  1,  0,  0,  0,  0, -1, -1, -1, -1, -1,\n",
       "       -1, -1, -1, -1, -1])"
      ]
     },
     "execution_count": 216,
     "metadata": {},
     "output_type": "execute_result"
    }
   ],
   "source": [
    "labels = np.array([0]*4 + [1]*8 + [2]*10)\n",
    "keep_array = np.ones_like(labels) * -1\n",
    "keep_array[np.where(labels == 1)] = [1,1,1,1,0,0,0,0]\n",
    "keep_array"
   ]
  },
  {
   "cell_type": "code",
   "execution_count": 19,
   "id": "76235ec1",
   "metadata": {},
   "outputs": [
    {
     "data": {
      "text/html": [
       "<div>\n",
       "<style scoped>\n",
       "    .dataframe tbody tr th:only-of-type {\n",
       "        vertical-align: middle;\n",
       "    }\n",
       "\n",
       "    .dataframe tbody tr th {\n",
       "        vertical-align: top;\n",
       "    }\n",
       "\n",
       "    .dataframe thead th {\n",
       "        text-align: right;\n",
       "    }\n",
       "</style>\n",
       "<table border=\"1\" class=\"dataframe\">\n",
       "  <thead>\n",
       "    <tr style=\"text-align: right;\">\n",
       "      <th></th>\n",
       "      <th>target</th>\n",
       "      <th>image_path</th>\n",
       "    </tr>\n",
       "  </thead>\n",
       "  <tbody>\n",
       "    <tr>\n",
       "      <th>0</th>\n",
       "      <td>0</td>\n",
       "      <td>/path/to/image</td>\n",
       "    </tr>\n",
       "    <tr>\n",
       "      <th>1</th>\n",
       "      <td>0</td>\n",
       "      <td>/path/to/image</td>\n",
       "    </tr>\n",
       "    <tr>\n",
       "      <th>2</th>\n",
       "      <td>0</td>\n",
       "      <td>/path/to/image</td>\n",
       "    </tr>\n",
       "    <tr>\n",
       "      <th>3</th>\n",
       "      <td>2</td>\n",
       "      <td>/path/to/image</td>\n",
       "    </tr>\n",
       "    <tr>\n",
       "      <th>4</th>\n",
       "      <td>1</td>\n",
       "      <td>/path/to/image</td>\n",
       "    </tr>\n",
       "    <tr>\n",
       "      <th>5</th>\n",
       "      <td>1</td>\n",
       "      <td>/path/to/image</td>\n",
       "    </tr>\n",
       "    <tr>\n",
       "      <th>6</th>\n",
       "      <td>2</td>\n",
       "      <td>/path/to/image</td>\n",
       "    </tr>\n",
       "    <tr>\n",
       "      <th>7</th>\n",
       "      <td>2</td>\n",
       "      <td>/path/to/image</td>\n",
       "    </tr>\n",
       "    <tr>\n",
       "      <th>8</th>\n",
       "      <td>2</td>\n",
       "      <td>/path/to/image</td>\n",
       "    </tr>\n",
       "  </tbody>\n",
       "</table>\n",
       "</div>"
      ],
      "text/plain": [
       "   target      image_path\n",
       "0       0  /path/to/image\n",
       "1       0  /path/to/image\n",
       "2       0  /path/to/image\n",
       "3       2  /path/to/image\n",
       "4       1  /path/to/image\n",
       "5       1  /path/to/image\n",
       "6       2  /path/to/image\n",
       "7       2  /path/to/image\n",
       "8       2  /path/to/image"
      ]
     },
     "execution_count": 19,
     "metadata": {},
     "output_type": "execute_result"
    }
   ],
   "source": [
    "import torch\n",
    "data = [\n",
    "    {'target': 0, 'image_path': '/path/to/image'},\n",
    "    {'target': 0, 'image_path': '/path/to/image'},\n",
    "    {'target': 0, 'image_path': '/path/to/image'},\n",
    "    {'target': 1, 'image_path': '/path/to/image'},\n",
    "    {'target': 1, 'image_path': '/path/to/image'},\n",
    "    {'target': 1, 'image_path': '/path/to/image'},\n",
    "    {'target': 2, 'image_path': '/path/to/image'},\n",
    "    {'target': 2, 'image_path': '/path/to/image'},\n",
    "    {'target': 2, 'image_path': '/path/to/image'},\n",
    "]\n",
    "\n",
    "df = pd.DataFrame(data)\n",
    "tensor = torch.tensor(df['target'].values)\n",
    "tensor[3] = 2\n",
    "tensor\n",
    "df.loc[:,'target'] = tensor.numpy()\n",
    "#df['target'].loc[:] = tensor.numpy()\n",
    "df"
   ]
  }
 ],
 "metadata": {
  "kernelspec": {
   "display_name": "Python 3 (ipykernel)",
   "language": "python",
   "name": "python3"
  },
  "language_info": {
   "codemirror_mode": {
    "name": "ipython",
    "version": 3
   },
   "file_extension": ".py",
   "mimetype": "text/x-python",
   "name": "python",
   "nbconvert_exporter": "python",
   "pygments_lexer": "ipython3",
   "version": "3.8.13"
  }
 },
 "nbformat": 4,
 "nbformat_minor": 5
}
