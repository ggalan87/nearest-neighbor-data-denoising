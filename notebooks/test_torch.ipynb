{
 "cells": [
  {
   "cell_type": "code",
   "execution_count": 2,
   "id": "a7a63a62",
   "metadata": {},
   "outputs": [
    {
     "name": "stderr",
     "output_type": "stream",
     "text": [
      "/home/amidemo/devel/anaconda3/envs/openmmlab-latest/lib/python3.8/site-packages/tqdm/auto.py:22: TqdmWarning: IProgress not found. Please update jupyter and ipywidgets. See https://ipywidgets.readthedocs.io/en/stable/user_install.html\n",
      "  from .autonotebook import tqdm as notebook_tqdm\n"
     ]
    }
   ],
   "source": [
    "import torch\n",
    "import numpy as np\n",
    "from torchmetrics.classification import BinaryAccuracy\n",
    "import sklearn.metrics"
   ]
  },
  {
   "cell_type": "code",
   "execution_count": 10,
   "id": "e9025ce0",
   "metadata": {},
   "outputs": [],
   "source": [
    "class XBM:\n",
    "    def __init__(self):\n",
    "        self.K = 20\n",
    "        self.feats = torch.zeros(self.K, 2).cuda()\n",
    "        self.targets = torch.zeros(self.K, dtype=torch.long).cuda()\n",
    "        self.targets[:]=-1\n",
    "        self.ptr = 0\n",
    "\n",
    "    @property\n",
    "    def is_full(self):\n",
    "        return self.targets[-1].item() != -1\n",
    "\n",
    "    def get(self):\n",
    "        if self.is_full:\n",
    "            return self.feats, self.targets\n",
    "        else:\n",
    "            return self.feats[:self.ptr], self.targets[:self.ptr]\n",
    "\n",
    "    def enqueue_dequeue(self, feats, targets):\n",
    "        q_size = len(targets)\n",
    "        print(q_size)\n",
    "        if self.ptr + q_size > self.K:\n",
    "            self.feats[-q_size:] = feats\n",
    "            self.targets[-q_size:] = targets\n",
    "            self.ptr = 0\n",
    "        else:\n",
    "            self.feats[self.ptr: self.ptr + q_size] = feats\n",
    "            self.targets[self.ptr: self.ptr + q_size] = targets\n",
    "            self.ptr += q_size"
   ]
  },
  {
   "cell_type": "code",
   "execution_count": 11,
   "id": "6dbd8b24",
   "metadata": {},
   "outputs": [],
   "source": [
    "xbm = XBM()"
   ]
  },
  {
   "cell_type": "code",
   "execution_count": 12,
   "id": "4441f7fa",
   "metadata": {},
   "outputs": [
    {
     "name": "stdout",
     "output_type": "stream",
     "text": [
      "10\n",
      "tensor([ 1,  2,  3,  4,  5,  6,  7,  8,  9, 10, -1, -1, -1, -1, -1, -1, -1, -1,\n",
      "        -1, -1], device='cuda:0')\n",
      "10\n",
      "tensor([ 1,  2,  3,  4,  5,  6,  7,  8,  9, 10,  1,  2,  3,  4,  5,  6,  7,  8,\n",
      "         9, 10], device='cuda:0')\n",
      "10\n",
      "tensor([ 1,  2,  3,  4,  5,  6,  7,  8,  9, 10,  0,  0,  0,  0,  0,  0,  0,  0,\n",
      "         0,  0], device='cuda:0')\n",
      "10\n",
      "tensor([13, 13, 13, 13, 13, 13, 13, 13, 13, 13,  0,  0,  0,  0,  0,  0,  0,  0,\n",
      "         0,  0], device='cuda:0')\n"
     ]
    }
   ],
   "source": [
    "xbm.enqueue_dequeue(torch.rand(10, 2), torch.tensor([1,2,3,4,5,6,7,8,9,10]))\n",
    "print(xbm.targets)\n",
    "xbm.enqueue_dequeue(torch.rand(10, 2), torch.tensor([1,2,3,4,5,6,7,8,9,10]))\n",
    "print(xbm.targets)\n",
    "xbm.enqueue_dequeue(torch.rand(10, 2), torch.tensor([0,0,0,0,0,0,0,0,0,0]))\n",
    "print(xbm.targets)\n",
    "xbm.enqueue_dequeue(torch.rand(10, 2), torch.tensor([13,13,13,13,13,13,13,13,13,13]))\n",
    "print(xbm.targets)"
   ]
  },
  {
   "cell_type": "code",
   "execution_count": 15,
   "id": "4df46e45",
   "metadata": {},
   "outputs": [
    {
     "name": "stdout",
     "output_type": "stream",
     "text": [
      "10\n",
      "tensor([ 1,  2,  3,  4,  5,  6,  7,  8,  9, 10,  1,  2,  3,  4,  5,  6,  7,  8,\n",
      "         9, 10], device='cuda:0')\n"
     ]
    }
   ],
   "source": [
    "xbm.enqueue_dequeue(torch.rand(10, 2), torch.tensor([1,2,3,4,5,6,7,8,9,10]))\n",
    "print(xbm.targets)\n"
   ]
  },
  {
   "cell_type": "code",
   "execution_count": 46,
   "id": "0de7d248",
   "metadata": {},
   "outputs": [
    {
     "name": "stdout",
     "output_type": "stream",
     "text": [
      "1\n",
      "tensor([99, 99, 99, 99, 99, 99, 99, 99, 99, 99, 91, 91, 91, 91, 91, 91, 91, 91,\n",
      "        91, 91], device='cuda:0')\n"
     ]
    }
   ],
   "source": [
    "xbm.enqueue_dequeue(torch.rand(1, 2), torch.tensor([91]))\n",
    "print(xbm.targets)"
   ]
  }
 ],
 "metadata": {
  "kernelspec": {
   "display_name": "Python 3 (ipykernel)",
   "language": "python",
   "name": "python3"
  },
  "language_info": {
   "codemirror_mode": {
    "name": "ipython",
    "version": 3
   },
   "file_extension": ".py",
   "mimetype": "text/x-python",
   "name": "python",
   "nbconvert_exporter": "python",
   "pygments_lexer": "ipython3",
   "version": "3.8.13"
  }
 },
 "nbformat": 4,
 "nbformat_minor": 5
}
