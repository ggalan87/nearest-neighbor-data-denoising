{
 "cells": [
  {
   "cell_type": "code",
   "execution_count": 1,
   "id": "5a3a09b1",
   "metadata": {},
   "outputs": [],
   "source": [
    "import sys\n",
    "sys.path.append('..')"
   ]
  },
  {
   "cell_type": "code",
   "execution_count": 2,
   "id": "a7572980",
   "metadata": {},
   "outputs": [
    {
     "name": "stderr",
     "output_type": "stream",
     "text": [
      "/home/amidemo/devel/anaconda3/envs/openmmlab-latest/lib/python3.8/site-packages/tqdm/auto.py:22: TqdmWarning: IProgress not found. Please update jupyter and ipywidgets. See https://ipywidgets.readthedocs.io/en/stable/user_install.html\n",
      "  from .autonotebook import tqdm as notebook_tqdm\n"
     ]
    }
   ],
   "source": [
    "from PIL import Image\n",
    "import torch\n",
    "from lightning.data.datasets import DirtyMNIST"
   ]
  },
  {
   "cell_type": "code",
   "execution_count": 3,
   "id": "14b671bd",
   "metadata": {},
   "outputs": [
    {
     "name": "stdout",
     "output_type": "stream",
     "text": [
      "Loading from /media/amidemo/Data/object_classifier_data/datasets/DirtyMNIST/dirty_mnist_emnist-l_trainval_dp-0.1_limits0.1-0.5-data.pt\n"
     ]
    }
   ],
   "source": [
    "dataset = DirtyMNIST(root='/media/amidemo/Data/object_classifier_data/datasets',\n",
    "                             train=True, dirty_probability=0.1,\n",
    "                             use_cached_dataset=True, dirtiness_source='emnist-l')\n"
   ]
  },
  {
   "cell_type": "code",
   "execution_count": 6,
   "id": "9900b73f",
   "metadata": {},
   "outputs": [
    {
     "data": {
      "image/png": "[encoded data removed]",
      "text/plain": [
       "<PIL.Image.Image image mode=L size=28x28>"
      ]
     },
     "execution_count": 6,
     "metadata": {},
     "output_type": "execute_result"
    }
   ],
   "source": [
    "dataset.get_pil_image(dataset.data[5])"
   ]
  }
 ],
 "metadata": {
  "kernelspec": {
   "display_name": "Python 3 (ipykernel)",
   "language": "python",
   "name": "python3"
  },
  "language_info": {
   "codemirror_mode": {
    "name": "ipython",
    "version": 3
   },
   "file_extension": ".py",
   "mimetype": "text/x-python",
   "name": "python",
   "nbconvert_exporter": "python",
   "pygments_lexer": "ipython3",
   "version": "3.8.13"
  }
 },
 "nbformat": 4,
 "nbformat_minor": 5
}
